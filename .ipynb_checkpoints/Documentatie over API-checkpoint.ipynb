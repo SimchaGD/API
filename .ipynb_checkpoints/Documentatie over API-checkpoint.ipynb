{
 "cells": [
  {
   "cell_type": "markdown",
   "metadata": {},
   "source": [
    "# Wat is een API\n",
    "## API: oversimplified\n",
    "Een API (of Application Programming Interface) is niks meer dan een programmatje maken en de resultaten door communiceren met een URL. In die URL zet je informatie die andere kunnen lezen, veranderen of verwijderen. \n",
    "\n",
    "Het is mogelijk om de api lokaal te draaien, maar het kan ook online. Wat je hiervoor nodig hebt is toegang tot een linux server via services als AWS, Linode of Digital Ocean. Als je dit wil koppelen aan een site moet je ook een extra domeinnaam aanschaffen. \n",
    "\n",
    "Er zijn veel verschillende soorten API, maar de meest gebruikte is RESTful API. Deze heb ik ook gebruikt. RESTful API heeft een paar methodes die je kan gebruiken. Dit zijn:\n",
    "\n",
    "- GET - opvragen van informatie\n",
    "\n",
    "- PUT - informatie veranderen\n",
    "\n",
    "- POST - informatie toevoegen\n",
    "\n",
    "- DELETE - informatie verwijderen\n",
    "\n",
    "## Waarom kunnen API's handig zijn voor Tau Omega\n",
    "Omgaan met API's kan voor Tau Omega handig zijn voor het volgende:\n",
    "\n",
    "- resultaten van modellen geven aan klanten zonder het model te geven\n",
    "\n",
    "- data live maken\n",
    "\n",
    "- data inlezen vanuit andere API's"
   ]
  },
  {
   "cell_type": "markdown",
   "metadata": {},
   "source": [
    "## Hoe moet je API's gebruiken/maken\n",
    "### Library's / toolboxen\n",
    "Tijdens het onderzoeken is er gewerkt met `Flask` en `Flask Restful`. Flask is een python library die gebruikt wordt voor python-web apps. Flask zet een lokale server op waarmee je onderandere ook API's kan maken. \n",
    "\n",
    "Daarnaast is er ook gewerkt met de package `requests`. Dit een standaard package python die via url's informatie ophaalt. \n",
    "\n",
    "### Terminal / cmd\n",
    "Het idee is dat je een apparte `.py` script maakt en die uitvoert in de terminal/cmd (ligt er aan of je windows/mac/linux doet). Iets wat je aan het begin veel open hebt staan is je terminal en je internetbrowser. \n",
    "\n",
    "## API: Doelen\n",
    "\n",
    "- API maken voor mezelf\n",
    "\n",
    "- API inlezen voor mezelf\n",
    "\n",
    "- Hoe maak je een API beschikbaar voor anderen?\n",
    "\n",
    "- Informatie uit twee bronnen samenvoegen\n",
    "\n",
    "- ML model aanroepen vanuit API\n",
    "\n",
    "- Registreren van users en calls\n",
    "\n",
    "- Beveiliging toevoegen met Oauth2\n",
    "\n",
    "____"
   ]
  },
  {
   "cell_type": "markdown",
   "metadata": {},
   "source": [
    "# Doelen uitwerken\n",
    "## API maken voor mezelf\n",
    "We beginnen met een kleine *Hello World* applicatie. "
   ]
  },
  {
   "cell_type": "code",
   "execution_count": 1,
   "metadata": {},
   "outputs": [],
   "source": [
    "# initialiseer de library's en app\n",
    "from flask import Flask, jsonify\n",
    "\n",
    "app = Flask(__name__)\n",
    "\n",
    "# Geef het pad van de app aan\n",
    "@app.route(\"/\")\n",
    "def hello():\n",
    "    # de inhoud wordt vaak als json gelezen. Dit is geen eis.\n",
    "    inhoud = jsonify({\n",
    "    \"about\":\"Hello World!\"\n",
    "    }) \n",
    "    return inhoud\n",
    "\n",
    "if __name__ == \"__main__\":\n",
    "    # De debug modus op True betekent dat je de code kan veranderen terwijl de app loopt\n",
    "    app.run(debug = True)"
   ]
  },
  {
   "cell_type": "markdown",
   "metadata": {},
   "source": [
    "Dit script moet je in de terminal uitvoeren. Als je niet weet hoe, [volg dan deze cursus](https://www.codecademy.com/courses/learn-the-command-line/lessons/navigation/exercises/your-first-command).\n",
    "\n",
    "Als je dit dan uitvoert in de terminal, dan hoort het er zo uit te zien. Dingen die je moet zien is:\n",
    "\n",
    "- Debug mode: on\n",
    "\n",
    "- Running on http://127.0.01:5000/ (deze link kan bij sommigen ook http://localhost:5000/ zijn)\n"
   ]
  },
  {
   "cell_type": "markdown",
   "metadata": {},
   "source": [
    "![Python output van code in terminal](img/basic1_run.png)"
   ]
  },
  {
   "cell_type": "markdown",
   "metadata": {},
   "source": [
    "Door naar het adres te gaan krijg je het volgende te zien:\n",
    "\n",
    "![Resultaat van Hello World API in browser](img/basic1_browser.png)\n",
    "\n",
    "Dit is het JSON bestand dat je in het python bestand gemaakt hebt."
   ]
  },
  {
   "cell_type": "markdown",
   "metadata": {},
   "source": [
    "Je kan de API iets ingewikkelder maken door het pad meetenemen als input. In `flask_basic_app.py` staat een nieuwe functie genaamd `get_multiply10`. Het pad van deze functie is te vinden in http://127.0.01:5000/multi/5. Voor elke integer kan de website deze functie uitvoeren. In dit geval zou het resultaat 50 zijn. "
   ]
  },
  {
   "cell_type": "code",
   "execution_count": null,
   "metadata": {},
   "outputs": [],
   "source": [
    "@app.route(\"/multi/<int:num>\", methods = [\"GET\"]) # De methods = [\"GET\"] is de default.\n",
    "def get_multiply10(num):\n",
    "    return jsonify({\n",
    "    \"result\": num*10\n",
    "    })"
   ]
  },
  {
   "cell_type": "markdown",
   "metadata": {},
   "source": [
    "![Resultaat van get_multiply10 API in browser](img/basic_app_5.png)\n"
   ]
  },
  {
   "cell_type": "markdown",
   "metadata": {},
   "source": [
    "Deze functies zijn alleen nog maar gemaakt met `Flask` en niet `Flask RESTful`. Om je code leesbaarder te maken kunnen we `Flask RESTful` gebruiken. Code als `HelloWorld` en `get_multiply10` ziet er dan zo uit (dit is `flask_restful_basic.py`):"
   ]
  },
  {
   "cell_type": "code",
   "execution_count": null,
   "metadata": {},
   "outputs": [],
   "source": [
    "from flask import Flask, request\n",
    "from flask_restful import Resource, Api\n",
    "\n",
    "app = Flask(__name__)\n",
    "api = Api(app)\n",
    "\n",
    "class HelloWorld(Resource):\n",
    "    def get(self):\n",
    "        return {\"about\":\"Hello World!\"}\n",
    "\n",
    "class Multi(Resource):\n",
    "    def get(self, num):\n",
    "        return {\"result\": num*10}\n",
    "\n",
    "\n",
    "api.add_resource(HelloWorld, \"/\")\n",
    "api.add_resource(Multi, \"/multi/<int:num>\")\n",
    "\n",
    "if __name__ == \"__main__\":\n",
    "    app.run(debug=True)"
   ]
  },
  {
   "cell_type": "markdown",
   "metadata": {},
   "source": [
    "### Voorbeeld binnen Tau Omega\n",
    "Een klant zou via deze manier de resultaten van een model kunnen krijgen zonder dat de resultaten van het model op de server/computer moet staan.\n",
    "\n",
    "### Eventuele aanschaffing van software/apparatuur\n",
    "Niets\n",
    "\n",
    "### Bronnen\n",
    "- https://www.youtube.com/watch?v=s_ht4AKnWZg\n",
    "\n",
    "- https://medium.com/python-pandemonium/build-simple-restful-api-with-python-and-flask-part-1-fae9ff66a706\n",
    "____"
   ]
  },
  {
   "cell_type": "markdown",
   "metadata": {},
   "source": [
    "## API inlezen voor mezelf\n",
    "Om een API in te lezen gebruiken we `requests`. Deze haalt informatie via een URL. \n",
    "\n",
    "Om `HelloWorld` in te lezen kan je de volgende code gebruiken:"
   ]
  },
  {
   "cell_type": "code",
   "execution_count": 43,
   "metadata": {},
   "outputs": [
    {
     "data": {
      "text/plain": [
       "(<Response [200]>, {'about': 'Hello World!'})"
      ]
     },
     "execution_count": 43,
     "metadata": {},
     "output_type": "execute_result"
    }
   ],
   "source": [
    "import requests\n",
    "\n",
    "url = \"http://127.0.0.1:5000/\"\n",
    "\n",
    "content = requests.get(url)\n",
    "content, content.json()"
   ]
  },
  {
   "cell_type": "markdown",
   "metadata": {},
   "source": [
    "Response [200] betekent dat het ophalen van informatie gelukt is. Voor de andere codes zie [wikipedia](https://nl.wikipedia.org/wiki/Lijst_van_HTTP-statuscodes).\n",
    "\n",
    "Om `get_multiply10` aan te roepen gebruiken we de volgende code:"
   ]
  },
  {
   "cell_type": "code",
   "execution_count": 44,
   "metadata": {},
   "outputs": [
    {
     "data": {
      "text/plain": [
       "5"
      ]
     },
     "execution_count": 44,
     "metadata": {},
     "output_type": "execute_result"
    }
   ],
   "source": [
    "import requests\n",
    "\n",
    "url = \"http://127.0.0.1:5000/multi/5\"\n",
    "\n",
    "content = requests.get(url)\n",
    "data = content.json()\n",
    "data[\"result\"]"
   ]
  },
  {
   "cell_type": "markdown",
   "metadata": {},
   "source": [
    "Om de Toggl API op te vragen moet je voldoen aan de authenticatie. Hiervoor heb je een toggl API token nodig en zet die ipv de tekst tussen de < >. "
   ]
  },
  {
   "cell_type": "code",
   "execution_count": 50,
   "metadata": {},
   "outputs": [
    {
     "name": "stdout",
     "output_type": "stream",
     "text": [
      "<Response [200]> \n",
      "\n"
     ]
    }
   ],
   "source": [
    "import requests\n",
    "import pandas as pd\n",
    "url = \"https://www.toggl.com/api/v8/workspaces\"\n",
    "\n",
    "response = requests.get(url, auth = (\"<api token>\", \"api_token\"))\n",
    "TauOmegaWorkspace = response.json()[1]\n",
    "print(response, \"\\n\")"
   ]
  },
  {
   "cell_type": "code",
   "execution_count": 57,
   "metadata": {},
   "outputs": [
    {
     "data": {
      "text/html": [
       "<div>\n",
       "<style scoped>\n",
       "    .dataframe tbody tr th:only-of-type {\n",
       "        vertical-align: middle;\n",
       "    }\n",
       "\n",
       "    .dataframe tbody tr th {\n",
       "        vertical-align: top;\n",
       "    }\n",
       "\n",
       "    .dataframe thead th {\n",
       "        text-align: right;\n",
       "    }\n",
       "</style>\n",
       "<table border=\"1\" class=\"dataframe\">\n",
       "  <thead>\n",
       "    <tr style=\"text-align: right;\">\n",
       "      <th></th>\n",
       "      <th>id</th>\n",
       "      <th>name</th>\n",
       "      <th>profile</th>\n",
       "      <th>premium</th>\n",
       "      <th>admin</th>\n",
       "      <th>default_hourly_rate</th>\n",
       "      <th>default_currency</th>\n",
       "      <th>only_admins_may_create_projects</th>\n",
       "      <th>only_admins_see_billable_rates</th>\n",
       "      <th>only_admins_see_team_dashboard</th>\n",
       "      <th>projects_billable_by_default</th>\n",
       "      <th>rounding</th>\n",
       "      <th>rounding_minutes</th>\n",
       "      <th>api_token</th>\n",
       "      <th>at</th>\n",
       "      <th>ical_enabled</th>\n",
       "    </tr>\n",
       "  </thead>\n",
       "  <tbody>\n",
       "    <tr>\n",
       "      <th>0</th>\n",
       "      <td>3268454</td>\n",
       "      <td>Tau Omega</td>\n",
       "      <td>0</td>\n",
       "      <td>False</td>\n",
       "      <td>True</td>\n",
       "      <td>0</td>\n",
       "      <td>USD</td>\n",
       "      <td>False</td>\n",
       "      <td>False</td>\n",
       "      <td>False</td>\n",
       "      <td>True</td>\n",
       "      <td>1</td>\n",
       "      <td>0</td>\n",
       "      <td>43f517a93b163b7727fcf72e79e704b6</td>\n",
       "      <td>2019-02-26T12:40:27+00:00</td>\n",
       "      <td>True</td>\n",
       "    </tr>\n",
       "  </tbody>\n",
       "</table>\n",
       "</div>"
      ],
      "text/plain": [
       "        id       name  profile  premium  admin  default_hourly_rate  \\\n",
       "0  3268454  Tau Omega        0    False   True                    0   \n",
       "\n",
       "  default_currency  only_admins_may_create_projects  \\\n",
       "0              USD                            False   \n",
       "\n",
       "   only_admins_see_billable_rates  only_admins_see_team_dashboard  \\\n",
       "0                           False                           False   \n",
       "\n",
       "   projects_billable_by_default  rounding  rounding_minutes  \\\n",
       "0                          True         1                 0   \n",
       "\n",
       "                          api_token                         at  ical_enabled  \n",
       "0  43f517a93b163b7727fcf72e79e704b6  2019-02-26T12:40:27+00:00          True  "
      ]
     },
     "execution_count": 57,
     "metadata": {},
     "output_type": "execute_result"
    }
   ],
   "source": [
    "pd.DataFrame(TauOmegaWorkspace, index = [0])"
   ]
  },
  {
   "cell_type": "markdown",
   "metadata": {},
   "source": [
    "### Voorbeeld binnen Tau Omega\n",
    "Een klant van ons heeft data, maar wil die niet beschikbaar stellen voor ons. Dan zouden wij toch via een API hun data kunnen ophalen zonder dat we de data opslaan.\n",
    "\n",
    "### Eventuele aanschaffing van software/apparatuur\n",
    "Wij niet, de klant moet eventueel wel een API beschikbaar maken voor ons en deze ook zeker beveiligen. \n",
    "\n",
    "### Bronnen\n",
    "\n",
    "- https://github.com/swappsco/toggl-python-api-client/blob/master/toggl/api_client.py\n",
    "\n",
    "- https://stackoverflow.com/questions/17301938/making-a-request-to-a-restful-api-using-python\n",
    "\n",
    "____"
   ]
  },
  {
   "cell_type": "markdown",
   "metadata": {},
   "source": [
    "## API beschikbaar maken voor iemand anders\n",
    "Dit is een stuk die ik niet volledig heb afgemaakt. Mijn bronnen zijn twee youtube video's van een gast die het voordoet. Snel kwam ik er achter dat het geld kost om het te proberen. Misschien dat ik dit later nog ga proberen als test. \n",
    "\n",
    "### Voorbeeld binnen Tau Omega\n",
    "Een klant zou via deze manier de resultaten van een model kunnen krijgen zonder dat de klant het model op de server/computer heeft staan.\n",
    "\n",
    "### Eventuele aanschaffing van software/apparatuur\n",
    "\n",
    "- Nieuwe domein naam voor onze API\n",
    "\n",
    "- Een service die linux servers opzet zoals AWS, Linode of Digital Ocean\n",
    "\n",
    "### Bronnen\n",
    "\n",
    "- https://www.youtube.com/embed/goToXTC96Co\n",
    "\n",
    "- https://youtu.be/LUFn-QVcmB8\n",
    "___"
   ]
  },
  {
   "cell_type": "code",
   "execution_count": 78,
   "metadata": {},
   "outputs": [
    {
     "data": {
      "text/plain": [
       "(51.5779, 5.0655)"
      ]
     },
     "execution_count": 78,
     "metadata": {},
     "output_type": "execute_result"
    }
   ],
   "source": [
    "import requests\n",
    "base_url = \"https://weather.api.here.com\"\n",
    "path = \"/weather/1.0\"\n",
    "resource = \"/report\"\n",
    "returnFormat = \"json\"\n",
    "api_id = \"fg3NOmFso5UhKWsNuFcN\"\n",
    "api_code = \"msWPts3sbJXGksFP1DWA7Q\"\n",
    "parameter = {\"product\": \"observation\",\n",
    "             \"name\": \"Tilburg\"}\n",
    "parameterKeys = list(parameter.keys())\n",
    "\n",
    "urlWeather = \"{}{}{}.{}?app_id={}&app_code={}&{}={}&{}={}\".format(\n",
    "    base_url,\n",
    "    path,\n",
    "    resource,\n",
    "    returnFormat,\n",
    "    api_id,\n",
    "    api_code,\n",
    "    parameterKeys[0],\n",
    "    parameter[parameterKeys[0]],\n",
    "    parameterKeys[1],\n",
    "    parameter[parameterKeys[1]]\n",
    ")\n",
    "\n",
    "responseWeather = requests.get(urlWeather)\n",
    "TilburgWeather = responseWeather.json()\n",
    "observ1 = TilburgWeather[\"observations\"][\"location\"][0][\"observation\"][0]\n",
    "lat = observ1[\"latitude\"]\n",
    "long = observ1[\"longitude\"]\n",
    "lat, long"
   ]
  },
  {
   "cell_type": "code",
   "execution_count": 79,
   "metadata": {},
   "outputs": [
    {
     "data": {
      "text/plain": [
       "{'Label': 'Midden-Brabantweg, 5048 Tilburg, Nederland',\n",
       " 'Country': 'NLD',\n",
       " 'State': 'Noord-Brabant',\n",
       " 'County': 'Tilburg',\n",
       " 'City': 'Tilburg',\n",
       " 'Street': 'Midden-Brabantweg',\n",
       " 'PostalCode': '5048',\n",
       " 'AdditionalData': [{'value': 'Nederland', 'key': 'CountryName'},\n",
       "  {'value': 'Noord-Brabant', 'key': 'StateName'},\n",
       "  {'value': 'Tilburg', 'key': 'CountyName'}]}"
      ]
     },
     "execution_count": 79,
     "metadata": {},
     "output_type": "execute_result"
    }
   ],
   "source": [
    "base_url = \"https://reverse.geocoder.api.here.com\"\n",
    "path = \"/6.2\"\n",
    "resource = \"/reversegeocode\"\n",
    "returnFormat = \"json\"\n",
    "api_id = \"fg3NOmFso5UhKWsNuFcN\"\n",
    "api_code = \"msWPts3sbJXGksFP1DWA7Q\"\n",
    "parameter = {\"mode\": \"retrieveAddresses\",\n",
    "             \"prox\": \"{},{},{}\".format(lat, long, 250)}\n",
    "parameterKeys = list(parameter.keys())\n",
    "\n",
    "urlGeolocation = \"{}{}{}.{}?app_id={}&app_code={}&{}={}&{}={}\".format(\n",
    "    base_url,\n",
    "    path,\n",
    "    resource,\n",
    "    returnFormat,\n",
    "    api_id,\n",
    "    api_code,\n",
    "    parameterKeys[0],\n",
    "    parameter[parameterKeys[0]],\n",
    "    parameterKeys[1],\n",
    "    parameter[parameterKeys[1]]\n",
    ")\n",
    "\n",
    "\n",
    "responseGeo = requests.get(urlGeolocation)\n",
    "GeoInfo = responseGeo.json()\n",
    "GeoInfo[\"Response\"][\"View\"][0][\"Result\"][1][\"Location\"][\"Address\"]"
   ]
  },
  {
   "cell_type": "code",
   "execution_count": 149,
   "metadata": {},
   "outputs": [
    {
     "data": {
      "image/png": "[encoded data removed]",
      "text/plain": [
       "<PIL.PngImagePlugin.PngImageFile image mode=RGB size=240x320 at 0x7FBF8F3F55C0>"
      ]
     },
     "execution_count": 149,
     "metadata": {},
     "output_type": "execute_result"
    }
   ],
   "source": [
    "import shutil\n",
    "from PIL import Image\n",
    "\n",
    "\n",
    "base_url = \"https://image.maps.api.here.com\"\n",
    "path = \"/mia/1.6\"\n",
    "resource = \"/mapview\"\n",
    "app_id = \"fg3NOmFso5UhKWsNuFcN\"\n",
    "app_code = \"msWPts3sbJXGksFP1DWA7Q\"\n",
    "imageFormat = \"0\" # 0 = PNG, 1 = JPG, 2 = GIF, 3 = BMP\n",
    "zoom = 15\n",
    "\n",
    "\n",
    "urlMap = \"{}{}{}?app_id={}&app_code={}&f={}&lat={}&lon={}&z={}\".format(\n",
    "    base_url,\n",
    "    path,\n",
    "    resource,\n",
    "    app_id,\n",
    "    app_code,\n",
    "    imageFormat,\n",
    "    lat,\n",
    "    long,\n",
    "    zoom\n",
    ")\n",
    "\n",
    "r = requests.get(urlMap)\n",
    "if r.status_code == 200:\n",
    "    with open(\"img/map.png\", 'wb') as f:\n",
    "        for chunk in r.iter_content(1024):\n",
    "            f.write(chunk)\n",
    "            \n",
    "img = Image.open(\"img/map.png\")\n",
    "img"
   ]
  },
  {
   "cell_type": "code",
   "execution_count": null,
   "metadata": {},
   "outputs": [],
   "source": []
  }
 ],
 "metadata": {
  "kernelspec": {
   "display_name": "Python 3",
   "language": "python",
   "name": "python3"
  },
  "language_info": {
   "codemirror_mode": {
    "name": "ipython",
    "version": 3
   },
   "file_extension": ".py",
   "mimetype": "text/x-python",
   "name": "python",
   "nbconvert_exporter": "python",
   "pygments_lexer": "ipython3",
   "version": "3.7.3"
  }
 },
 "nbformat": 4,
 "nbformat_minor": 2
}
